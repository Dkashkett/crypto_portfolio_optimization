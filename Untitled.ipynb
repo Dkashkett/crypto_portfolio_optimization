{
 "cells": [
  {
   "cell_type": "code",
   "execution_count": 488,
   "metadata": {},
   "outputs": [],
   "source": [
    "import pandas as pd\n",
    "import numpy as np\n",
    "from sklearn import preprocessing\n",
    "from sklearn.preprocessing import MultiLabelBinarizer, LabelEncoder\n",
    "from itertools import combinations "
   ]
  },
  {
   "cell_type": "code",
   "execution_count": 489,
   "metadata": {},
   "outputs": [],
   "source": [
    "people = [\n",
    "    {\n",
    "        'name': 'Bob',\n",
    "        'availability': ['2021-01-10', '2021-01-11'],\n",
    "        'interests': ['rock climbing', 'tech', 'data science'],\n",
    "    },\n",
    "    {\n",
    "        'name': 'Joe',\n",
    "        'availability': ['2021-01-10', '2021-01-09'],\n",
    "        'interests': ['rock climbing', 'swimming', 'data science'],\n",
    "    },\n",
    "    {\n",
    "        'name': 'Carolyn',\n",
    "        'availability': ['2021-01-11', '2021-01-12'],\n",
    "        'interests': ['data science'],\n",
    "    },\n",
    "    {\n",
    "        'name': 'Dan',\n",
    "        'availability': ['2021-01-12'],\n",
    "        'interests': ['rock climbing'],\n",
    "    },\n",
    "]"
   ]
  },
  {
   "cell_type": "code",
   "execution_count": 522,
   "metadata": {},
   "outputs": [],
   "source": [
    "def pool_matching(people):\n",
    "    # list of possible distinct interests\n",
    "    interests = []\n",
    "    # list of possible distinct dates\n",
    "    dates = []\n",
    "    \n",
    "    shared_availability = {}\n",
    "    shared_interests = {}\n",
    "    \n",
    "    # this creates lists of unique interests and dates\n",
    "    for person in people:\n",
    "        interests.extend(person['interests'])\n",
    "        dates.extend(person['availability'])\n",
    "    interests = list(set(interests))\n",
    "    dates = list(set(dates))\n",
    "    \n",
    "    # loops through people and creates a dictionary with keys as distinct dates and values as combinations of people who are available those days\n",
    "    shared_availability = {}\n",
    "    matched_names = []\n",
    "    for date in dates:\n",
    "        matches = []\n",
    "        for person in people:\n",
    "            if date in person['availability']:\n",
    "                matches.append(person['name'])\n",
    "        if len(matches) > 1:\n",
    "            matched_names.extend(matches)\n",
    "            # we create a list of unique combinations because there may be more than 2 people available a given day\n",
    "            matches = list(combinations(matches,2))\n",
    "            shared_availability[date] = matches\n",
    "    \n",
    "    # checks for people who had zero matches for avalability -- done with python set comparison \n",
    "    all_names = set([i['name'] for i in people])\n",
    "    matched_names = set(matched_names)\n",
    "    unmatched = list(all_names.symmetric_difference(matched_names))\n",
    "    unmatched\n",
    "    \n",
    "    # loops through people and creates a dictionary with keys as distinct interests and values as combinations of people who have those interests\n",
    "    for interest in interests:\n",
    "        matches = []\n",
    "        for person in people:\n",
    "            if interest in person['interests']:\n",
    "                matches.append(person['name'])\n",
    "        if len(matches) > 1:\n",
    "            # we create a list of unique combinations because there are likely more than 2 people who share a given interest\n",
    "            matches = list(combinations(matches,2))\n",
    "            shared_interests[interest] = matches\n",
    "    \n",
    "    # finally we loop through shared interests and our matches for date availability and search for shared interests\n",
    "    all_matches = []\n",
    "    for date in shared_availability.keys():\n",
    "        for potential_match in shared_availability[date]:\n",
    "            date = date\n",
    "            match = potential_match\n",
    "            #list of shared interest for each date match\n",
    "            si = []\n",
    "            for interest in shared_interests.keys():\n",
    "                if potential_match in shared_interests[interest]:\n",
    "                    si.append(interest)\n",
    "            all_matches.append({\n",
    "            'match': match,\n",
    "            'scheduled_date': date,\n",
    "            'overlapping_interests': si,\n",
    "            })\n",
    "    \n",
    "    return all_matches, unmatched\n"
   ]
  },
  {
   "cell_type": "code",
   "execution_count": 524,
   "metadata": {},
   "outputs": [],
   "source": [
    "matches, no_matches = pool_matching(people)"
   ]
  },
  {
   "cell_type": "code",
   "execution_count": 525,
   "metadata": {},
   "outputs": [
    {
     "data": {
      "text/plain": [
       "[{'match': ('Bob', 'Joe'),\n",
       "  'scheduled_date': '2021-01-10',\n",
       "  'overlapping_interests': ['rock climbing', 'data science']},\n",
       " {'match': ('Carolyn', 'Dan'),\n",
       "  'scheduled_date': '2021-01-12',\n",
       "  'overlapping_interests': []},\n",
       " {'match': ('Bob', 'Carolyn'),\n",
       "  'scheduled_date': '2021-01-11',\n",
       "  'overlapping_interests': ['data science']}]"
      ]
     },
     "execution_count": 525,
     "metadata": {},
     "output_type": "execute_result"
    }
   ],
   "source": [
    "matches"
   ]
  },
  {
   "cell_type": "code",
   "execution_count": 526,
   "metadata": {},
   "outputs": [
    {
     "data": {
      "text/plain": [
       "[]"
      ]
     },
     "execution_count": 526,
     "metadata": {},
     "output_type": "execute_result"
    }
   ],
   "source": [
    "no_matches"
   ]
  },
  {
   "cell_type": "code",
   "execution_count": 490,
   "metadata": {},
   "outputs": [],
   "source": [
    "interests = []\n",
    "dates = []\n",
    "for person in people:\n",
    "    interests.extend(person['interests'])\n",
    "    dates.extend(person['availability'])\n",
    "interests = list(set(interests))\n",
    "dates = list(set(dates))"
   ]
  },
  {
   "cell_type": "code",
   "execution_count": 512,
   "metadata": {},
   "outputs": [
    {
     "data": {
      "text/plain": [
       "[]"
      ]
     },
     "execution_count": 512,
     "metadata": {},
     "output_type": "execute_result"
    }
   ],
   "source": [
    "shared_availability = {}\n",
    "matched_names = []\n",
    "\n",
    "for date in dates:\n",
    "    matches = []\n",
    "    for person in people:\n",
    "        if date in person['availability']:\n",
    "            matches.append(person['name'])\n",
    "    if len(matches) > 1:\n",
    "        matched_names.extend(matches)\n",
    "        matches = list(combinations(matches,2))\n",
    "        shared_availability[date] = matches\n",
    "\n",
    "all_names = set([i['name'] for i in people])\n",
    "matched_names = set(matched_names)\n",
    "unmatched = list(all_names.symmetric_difference(matched_names))\n",
    "unmatched"
   ]
  },
  {
   "cell_type": "code",
   "execution_count": 475,
   "metadata": {},
   "outputs": [],
   "source": [
    "shared_interests = {}\n",
    "for interest in interests:\n",
    "    matches = []\n",
    "    for person in people:\n",
    "        if interest in person['interests']:\n",
    "            matches.append(person['name'])\n",
    "    if len(matches) > 1:\n",
    "        matches = list(combinations(matches,2))\n",
    "        shared_interests[interest] = matches"
   ]
  },
  {
   "cell_type": "code",
   "execution_count": 476,
   "metadata": {},
   "outputs": [
    {
     "name": "stdout",
     "output_type": "stream",
     "text": [
      "[{'match': ('Bob', 'Joe'), 'scheduled_date': '2021-01-10', 'overlapping_interests': ['rock climbing', 'data science']}, {'match': ('Carolyn', 'Dan'), 'scheduled_date': '2021-01-12', 'overlapping_interests': []}, {'match': ('Bob', 'Carolyn'), 'scheduled_date': '2021-01-11', 'overlapping_interests': ['data science']}]\n"
     ]
    }
   ],
   "source": [
    "matchbook = []\n",
    "for date in shared_availability.keys():\n",
    "    for potential_match in shared_availability[date]:\n",
    "        date = date\n",
    "        match = potential_match\n",
    "        si = []\n",
    "        for interest in shared_interests.keys():\n",
    "            if potential_match in shared_interests[interest]:\n",
    "                si.append(interest)\n",
    "        matchbook.append({\n",
    "        'match': match,\n",
    "        'scheduled_date': date,\n",
    "        'overlapping_interests': si,\n",
    "        })\n",
    "        \n",
    "print(matchbook)"
   ]
  },
  {
   "cell_type": "code",
   "execution_count": null,
   "metadata": {},
   "outputs": [],
   "source": [
    "[{'match': ('Bob', 'Joe'), 'scheduled_date': '2021-01-10', 'overlapping_interests': ['rock climbing', 'data science']}, \n",
    " {'match': ('Carolyn', 'Dan'), 'scheduled_date': '2021-01-12', 'overlapping_interests': []}, \n",
    " {'match': ('Bob', 'Carolyn'), 'scheduled_date': '2021-01-11', 'overlapping_interests': ['data science']}]"
   ]
  },
  {
   "cell_type": "code",
   "execution_count": 453,
   "metadata": {},
   "outputs": [],
   "source": [
    "dates = list(shared_availability.keys())\n",
    "shared_date_combos = list(shared_availability.values())"
   ]
  },
  {
   "cell_type": "code",
   "execution_count": 468,
   "metadata": {},
   "outputs": [
    {
     "data": {
      "text/plain": [
       "[('Bob', 'Joe')]"
      ]
     },
     "execution_count": 468,
     "metadata": {},
     "output_type": "execute_result"
    }
   ],
   "source": [
    "shared_availability['2021-01-10']"
   ]
  },
  {
   "cell_type": "code",
   "execution_count": 465,
   "metadata": {},
   "outputs": [
    {
     "data": {
      "text/plain": [
       "True"
      ]
     },
     "execution_count": 465,
     "metadata": {},
     "output_type": "execute_result"
    }
   ],
   "source": [
    "shared_date_combos[0][0] in shared_interests['data science']"
   ]
  },
  {
   "cell_type": "code",
   "execution_count": 461,
   "metadata": {},
   "outputs": [
    {
     "data": {
      "text/plain": [
       "{'rock climbing': [('Bob', 'Joe'), ('Bob', 'Dan'), ('Joe', 'Dan')],\n",
       " 'data science': [('Bob', 'Joe'), ('Bob', 'Carolyn'), ('Joe', 'Carolyn')]}"
      ]
     },
     "execution_count": 461,
     "metadata": {},
     "output_type": "execute_result"
    }
   ],
   "source": [
    "shared_interests"
   ]
  },
  {
   "cell_type": "code",
   "execution_count": 459,
   "metadata": {},
   "outputs": [
    {
     "data": {
      "text/plain": [
       "True"
      ]
     },
     "execution_count": 459,
     "metadata": {},
     "output_type": "execute_result"
    }
   ],
   "source": [
    "shared_date_combos[0][0] in shared_interests['rock climbing']"
   ]
  },
  {
   "cell_type": "code",
   "execution_count": 434,
   "metadata": {},
   "outputs": [],
   "source": [
    "comb = combinations(shared_availability['2021-01-10'], 2)"
   ]
  },
  {
   "cell_type": "code",
   "execution_count": 436,
   "metadata": {},
   "outputs": [
    {
     "data": {
      "text/plain": [
       "[('Bob', 'Joe')]"
      ]
     },
     "execution_count": 436,
     "metadata": {},
     "output_type": "execute_result"
    }
   ],
   "source": [
    "list(comb)"
   ]
  },
  {
   "cell_type": "code",
   "execution_count": 318,
   "metadata": {},
   "outputs": [
    {
     "name": "stdout",
     "output_type": "stream",
     "text": [
      "{'2021-01-10': 0, '2021-01-09': 1, '2021-01-12': 2, '2021-01-11': 3}\n",
      "{'tech': 0, 'swimming': 1, 'rock climbing': 2, 'data science': 3}\n"
     ]
    }
   ],
   "source": [
    "int_list = []\n",
    "date_list = []\n",
    "for person in people:\n",
    "    int_list.extend(person['interests'])\n",
    "    date_list.extend(person['availability'])\n",
    "int_list = dict(enumerate(set(int_list)))\n",
    "int_lookup = dict(zip(int_list.values(), int_list.keys()))\n",
    "date_list = dict(enumerate(set(date_list)))\n",
    "date_lookup = dict(zip(date_list.values(), date_list.keys()))\n",
    "print(date_lookup)\n",
    "print(int_lookup)"
   ]
  },
  {
   "cell_type": "code",
   "execution_count": 320,
   "metadata": {},
   "outputs": [],
   "source": [
    "people = pd.DataFrame(people)\n",
    "people.head()\n",
    "parr = np.array(people)"
   ]
  },
  {
   "cell_type": "code",
   "execution_count": 321,
   "metadata": {},
   "outputs": [
    {
     "data": {
      "text/plain": [
       "array([['Bob', list(['2021-01-10', '2021-01-11']),\n",
       "        list(['rock climbing', 'tech', 'data science'])],\n",
       "       ['Joe', list(['2021-01-10', '2021-01-09']),\n",
       "        list(['rock climbing', 'swimming', 'data science'])],\n",
       "       ['Carolyn', list(['2021-01-11', '2021-01-12']),\n",
       "        list(['data science'])],\n",
       "       ['Dan', list(['2021-01-12']), list(['rock climbing'])]],\n",
       "      dtype=object)"
      ]
     },
     "execution_count": 321,
     "metadata": {},
     "output_type": "execute_result"
    }
   ],
   "source": [
    "parr"
   ]
  },
  {
   "cell_type": "code",
   "execution_count": null,
   "metadata": {},
   "outputs": [],
   "source": []
  },
  {
   "cell_type": "code",
   "execution_count": null,
   "metadata": {},
   "outputs": [],
   "source": []
  },
  {
   "cell_type": "code",
   "execution_count": null,
   "metadata": {},
   "outputs": [],
   "source": []
  },
  {
   "cell_type": "code",
   "execution_count": null,
   "metadata": {},
   "outputs": [],
   "source": []
  },
  {
   "cell_type": "code",
   "execution_count": null,
   "metadata": {},
   "outputs": [],
   "source": []
  },
  {
   "cell_type": "code",
   "execution_count": 307,
   "metadata": {},
   "outputs": [],
   "source": [
    "interests_binarizer = MultiLabelBinarizer()\n",
    "availability_binarizer = MultiLabelBinarizer()"
   ]
  },
  {
   "cell_type": "code",
   "execution_count": 308,
   "metadata": {},
   "outputs": [
    {
     "data": {
      "text/plain": [
       "{0: 'data science', 1: 'rock climbing', 2: 'swimming', 3: 'tech'}"
      ]
     },
     "execution_count": 308,
     "metadata": {},
     "output_type": "execute_result"
    }
   ],
   "source": [
    "people['interests'] = list(interests_binarizer.fit_transform(people['interests']))\n",
    "interests_lookup = dict(list(enumerate(interests_binarizer.classes_)))\n",
    "interests_lookup"
   ]
  },
  {
   "cell_type": "code",
   "execution_count": 309,
   "metadata": {},
   "outputs": [
    {
     "data": {
      "text/plain": [
       "{0: '2021-01-09', 1: '2021-01-10', 2: '2021-01-11', 3: '2021-01-12'}"
      ]
     },
     "execution_count": 309,
     "metadata": {},
     "output_type": "execute_result"
    }
   ],
   "source": [
    "people['availability'] = list(availability_binarizer.fit_transform(people['availability']))\n",
    "availability_lookup = dict(list(enumerate(availability_binarizer.classes_)))\n",
    "availability_lookup"
   ]
  },
  {
   "cell_type": "code",
   "execution_count": 313,
   "metadata": {},
   "outputs": [
    {
     "data": {
      "text/plain": [
       "array([['Bob', array([0, 1, 1, 0]), array([1, 1, 0, 1])],\n",
       "       ['Joe', array([1, 1, 0, 0]), array([1, 1, 1, 0])],\n",
       "       ['Carolyn', array([0, 0, 1, 1]), array([1, 0, 0, 0])],\n",
       "       ['Dan', array([0, 0, 0, 1]), array([0, 1, 0, 0])]], dtype=object)"
      ]
     },
     "execution_count": 313,
     "metadata": {},
     "output_type": "execute_result"
    }
   ],
   "source": [
    "people_arr = np.array(people)\n",
    "people_arr"
   ]
  },
  {
   "cell_type": "code",
   "execution_count": 296,
   "metadata": {},
   "outputs": [],
   "source": [
    "availability_matches = []\n",
    "for i in range(people_arr.shape[0]):\n",
    "    matches = []\n",
    "    for j in range(i,people_arr.shape[0] ):\n",
    "        if (people_arr[i][1] == people_arr[j][1]).any():\n",
    "            matches.append(people_arr[j][0])\n",
    "    availability_matches.append(matches)  "
   ]
  },
  {
   "cell_type": "code",
   "execution_count": 297,
   "metadata": {},
   "outputs": [
    {
     "data": {
      "text/plain": [
       "[['Bob', 'Joe', 'Carolyn', 'Dan'], ['Joe', 'Dan'], ['Carolyn', 'Dan'], ['Dan']]"
      ]
     },
     "execution_count": 297,
     "metadata": {},
     "output_type": "execute_result"
    }
   ],
   "source": [
    "availability_matches"
   ]
  },
  {
   "cell_type": "code",
   "execution_count": 298,
   "metadata": {},
   "outputs": [
    {
     "data": {
      "text/html": [
       "<div>\n",
       "<style scoped>\n",
       "    .dataframe tbody tr th:only-of-type {\n",
       "        vertical-align: middle;\n",
       "    }\n",
       "\n",
       "    .dataframe tbody tr th {\n",
       "        vertical-align: top;\n",
       "    }\n",
       "\n",
       "    .dataframe thead th {\n",
       "        text-align: right;\n",
       "    }\n",
       "</style>\n",
       "<table border=\"1\" class=\"dataframe\">\n",
       "  <thead>\n",
       "    <tr style=\"text-align: right;\">\n",
       "      <th></th>\n",
       "      <th>name</th>\n",
       "      <th>availability</th>\n",
       "      <th>interests</th>\n",
       "      <th>matches</th>\n",
       "    </tr>\n",
       "  </thead>\n",
       "  <tbody>\n",
       "    <tr>\n",
       "      <th>0</th>\n",
       "      <td>Bob</td>\n",
       "      <td>[0, 1, 1, 0]</td>\n",
       "      <td>[1, 1, 0, 1]</td>\n",
       "      <td>[Bob, Joe, Carolyn, Dan]</td>\n",
       "    </tr>\n",
       "    <tr>\n",
       "      <th>1</th>\n",
       "      <td>Joe</td>\n",
       "      <td>[1, 1, 0, 0]</td>\n",
       "      <td>[1, 1, 1, 0]</td>\n",
       "      <td>[Joe, Dan]</td>\n",
       "    </tr>\n",
       "    <tr>\n",
       "      <th>2</th>\n",
       "      <td>Carolyn</td>\n",
       "      <td>[0, 0, 1, 1]</td>\n",
       "      <td>[1, 0, 0, 0]</td>\n",
       "      <td>[Carolyn, Dan]</td>\n",
       "    </tr>\n",
       "    <tr>\n",
       "      <th>3</th>\n",
       "      <td>Dan</td>\n",
       "      <td>[0, 0, 0, 1]</td>\n",
       "      <td>[0, 1, 0, 0]</td>\n",
       "      <td>[Dan]</td>\n",
       "    </tr>\n",
       "  </tbody>\n",
       "</table>\n",
       "</div>"
      ],
      "text/plain": [
       "      name  availability     interests                   matches\n",
       "0      Bob  [0, 1, 1, 0]  [1, 1, 0, 1]  [Bob, Joe, Carolyn, Dan]\n",
       "1      Joe  [1, 1, 0, 0]  [1, 1, 1, 0]                [Joe, Dan]\n",
       "2  Carolyn  [0, 0, 1, 1]  [1, 0, 0, 0]            [Carolyn, Dan]\n",
       "3      Dan  [0, 0, 0, 1]  [0, 1, 0, 0]                     [Dan]"
      ]
     },
     "execution_count": 298,
     "metadata": {},
     "output_type": "execute_result"
    }
   ],
   "source": [
    "people['matches'] = availability_matches\n",
    "people"
   ]
  },
  {
   "cell_type": "code",
   "execution_count": null,
   "metadata": {},
   "outputs": [],
   "source": []
  }
 ],
 "metadata": {
  "kernelspec": {
   "display_name": "Python 3",
   "language": "python",
   "name": "python3"
  },
  "language_info": {
   "codemirror_mode": {
    "name": "ipython",
    "version": 3
   },
   "file_extension": ".py",
   "mimetype": "text/x-python",
   "name": "python",
   "nbconvert_exporter": "python",
   "pygments_lexer": "ipython3",
   "version": "3.8.3"
  }
 },
 "nbformat": 4,
 "nbformat_minor": 4
}
